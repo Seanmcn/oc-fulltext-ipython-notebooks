{
 "cells": [
  {
   "cell_type": "markdown",
   "metadata": {},
   "source": [
    "# Introduction to Full Text Analysis with Open Collections API"
   ]
  },
  {
   "cell_type": "markdown",
   "metadata": {},
   "source": [
    "__Types of full text analysis?__\n",
    "\n",
    "* __Text mining__ is a catch-all term for using algorithms to extract specific kinds of data from a text or group of texts. [EG: find all the times \"blood\" occurs in Macbeth. Or complicated: sort thousands of books by their genre based on the words they use.]\n",
    "\n",
    "* __Natural language processing__ is a slightly more specific term -- it is the name for a field of computer science that is invested in the relationship between human language and machines. Natural language processing or NLP approaches the questions of text as data with a focus on how human language actually works. [EG: Find all the places in a text. Tag a text for its parts of speech. Translate a text.]\n",
    "\n",
    "* __Topic Modeling__ is a very specific method of text analysis that sorts the words in a collection of texts into groups that reflect a probablistic relationship between those words. It allows people to see patterns and relationships between texts in a large corpus. [EG: See how the language and interest of authors of literary criticism evolve over 100 years.]\n"
   ]
  },
  {
   "cell_type": "markdown",
   "metadata": {
    "collapsed": true
   },
   "source": [
    "## Text Mining"
   ]
  },
  {
   "cell_type": "markdown",
   "metadata": {},
   "source": [
    "First we are going to start off with text mining using the Open Collections API"
   ]
  },
  {
   "cell_type": "code",
   "execution_count": 57,
   "metadata": {
    "collapsed": false
   },
   "outputs": [
    {
     "name": "stdout",
     "output_type": "stream",
     "text": [
      "[nltk_data] Downloading package punkt to /home/seanmcn/nltk_data...\n",
      "[nltk_data]   Package punkt is already up-to-date!\n",
      "[nltk_data] Downloading package stopwords to\n",
      "[nltk_data]     /home/seanmcn/nltk_data...\n",
      "[nltk_data]   Package stopwords is already up-to-date!\n"
     ]
    }
   ],
   "source": [
    "import json, requests, math, re, string, nltk\n",
    "\n",
    "nltk.download(\"punkt\") # Word tokenizer\n",
    "nltk.download(\"stopwords\") # Stop words\n",
    "from nltk import word_tokenize\n",
    "\n",
    "ocUrl = 'https://open.library.ubc.ca/'\n",
    "ocApiUrl = 'https://oc-index.library.ubc.ca' # APPY URL"
   ]
  },
  {
   "cell_type": "markdown",
   "metadata": {},
   "source": [
    "### Set our API Key"
   ]
  },
  {
   "cell_type": "markdown",
   "metadata": {},
   "source": [
    "You can get your own API key at https://open.library.ubc.ca/research"
   ]
  },
  {
   "cell_type": "code",
   "execution_count": 3,
   "metadata": {
    "collapsed": true
   },
   "outputs": [],
   "source": [
    "apiKey = 'ac40e6c2cb345593ed1691e0a8b601bba398e42d85f81f893c5ab709cec63c6c'"
   ]
  },
  {
   "cell_type": "markdown",
   "metadata": {},
   "source": [
    "### Choose a collection"
   ]
  },
  {
   "cell_type": "code",
   "execution_count": 4,
   "metadata": {
    "collapsed": true
   },
   "outputs": [],
   "source": [
    "collection = 'darwin'"
   ]
  },
  {
   "cell_type": "markdown",
   "metadata": {},
   "source": [
    "### Get collection info using the API"
   ]
  },
  {
   "cell_type": "code",
   "execution_count": 59,
   "metadata": {
    "collapsed": false
   },
   "outputs": [
    {
     "data": {
      "text/plain": [
       "'Collection: \"Charles Darwin Letters\" has 52 items'"
      ]
     },
     "execution_count": 59,
     "metadata": {},
     "output_type": "execute_result"
    }
   ],
   "source": [
    "# Query the API for the collection information\n",
    "collectionUrl = ocApiUrl+'/collections/'+collection+'?api_key='+apiKey\n",
    "apiResponse = requests.get(collectionUrl).json()\n",
    "\n",
    "# Get count of items in collection\n",
    "itemCount = apiResponse['data']['items']\n",
    "\n",
    "# Get collection name\n",
    "collectionTitle = apiResponse['data']['title']\n",
    "'Collection: \"' + collectionTitle + '\" has ' + str(itemCount) + ' items'"
   ]
  },
  {
   "cell_type": "markdown",
   "metadata": {},
   "source": [
    "### GET and store the collections items using the API"
   ]
  },
  {
   "cell_type": "code",
   "execution_count": 58,
   "metadata": {
    "collapsed": false
   },
   "outputs": [
    {
     "name": "stdout",
     "output_type": "stream",
     "text": [
      "['1.0000079', '1.0000080', '1.0000084', '1.0000088', '1.0000093', '1.0000097', '1.0000103', '1.0000130', '1.0000134', '1.0000138', '1.0000143', '1.0000147', '1.0000152', '1.0000083', '1.0000087', '1.0000092', '1.0000096', '1.0000102', '1.0000133', '1.0000137', '1.0000142', '1.0000146', '1.0000151', '1.0000082', '1.0000086', '1.0000091', '1.0000095', '1.0000099', '1.0000101', '1.0000132', '1.0000136', '1.0000141', '1.0000145', '1.0000149', '1.0000150', '1.0000154', '1.0000200', '1.0000081', '1.0000085', '1.0000089', '1.0000090', '1.0000094', '1.0000098', '1.0000100', '1.0000104', '1.0000131', '1.0000135', '1.0000139', '1.0000140', '1.0000144', '1.0000148', '1.0000153']\n"
     ]
    }
   ],
   "source": [
    "perPage = 25\n",
    "offset = 0\n",
    "pages = math.ceil(itemCount / 25)\n",
    "\n",
    "# Loop through collection item pages to get all items\n",
    "itemIds = []\n",
    "for x in range(0, pages):\n",
    "    collectionItemsUrl = ocApiUrl+'/collections/'+collection\n",
    "    collectionItemsUrl += '/items?limit='+str(perPage)+'&offset='+str(offset)+'&api_key='+apiKey\n",
    "    offset += 25 \n",
    "    # Get list of 25 items\n",
    "    apiResponse = requests.get(collectionItemsUrl).json()\n",
    "    collectionItems = apiResponse['data']\n",
    "    # Add each item id to the itemIds list\n",
    "    for collectionItem in collectionItems:\n",
    "        itemIds.append(collectionItem['_id'])\n",
    "print(itemIds)"
   ]
  },
  {
   "cell_type": "markdown",
   "metadata": {},
   "source": [
    "### GET and store items and full text using the API"
   ]
  },
  {
   "cell_type": "code",
   "execution_count": 17,
   "metadata": {
    "collapsed": false
   },
   "outputs": [
    {
     "name": "stdout",
     "output_type": "stream",
     "text": [
      "['down beckenham kent my dear dr sanderson i hear from frank the drosera has been behaving perversely i write a line as it may possibly have a bearing on this perversity viz that the motor influence is sent from the excited gland more quickly completely in a longitudinal than in a transverse direction in the laminae of the leaf diagram with labels longitudinal transverse direction footstalk yours very sincerely ch darwin', 'to try whether mucin made by dr moore from a large quantity of mucin globulin from lens of eye chlorophyll now in alcohol to be evaporated hemoglobin can be digested is chondrin more nutritious or more digestible than gelatin dr moore says it is more nutritious it acts more efficiently on drosera than does gelatin but neither of them acts so efficiently as juice of raw meat or meat or albumen etc etc on side if not generally known likely dr brunton would know if i can get propionic butyric acids will it be troublesome to ascertain whether these with pepsin will digest albumen meat oct 18th c darwin', 'letterhead down beckenham kent june 24 1873 my dear dr sanderson i am going to beg a great favour of you viz to read over the enclosed brief abstract of the results of certain experiments on drosera then to answer 3 or 4 questions to consider whether you can suggest any other soluble substances which it wd be well worth my trying i do not wish to try many more as i hardly know whether these results are worth much i do know that i have not sufficient knowledge drosera is highlypeculiar by possessing absorbent glands on the leaves by shewing thro the inflection of the tentacles the influence of certain fluids it will be well to explain how the enclosed results were obtained i place half a minim of the solution on the glands at the disk of the leaf when i speak of inflection i always mean that the circumferential tentacles have become inflected tho their glands have not absorbed any of the fluid the circumferential tentacles are caused to move by the stimulus transmitted from the glands of the disk my object in the experiments here referred to has been to ascertain how far those soluble substances which produce any strongly markedeffect on animals likewise affect drosera fluids which actually corrode the tissues seem to me unimportant my queries are appended to the enclosed results are marked with red lines so as to catch your attention you will confer a great kindness on me if you will advise me ever so briefly or make any suggestions it will perhaps save you a little trouble to write any remarks on the back of my pages pray forgive me for asking this favour which i fear is somewhat unreasonable believe me yours very sincerely ch darwin i was very glad to read your article in last nature ', 'down beckenham kent railway station orpington s e r feb 10 75 my dear dr sanderson do you by any chance know whether animals can digest or decompose phosphate of potassium so as thus to obtain phosphorus i ask because the phosphates of soda lime ammonia act most powerfully on drosaea whereas phosphate of potassium is as innocent as gum or sugar i wrote some little time ago to huxley suggesting that physiologists biologists should petition the h of commons to pass a reasonable act on vivisection in the spirit of the liverpool brit assoc resolutions he said he would consult you i hope that you think well of the suggestion that something of the kind or something better will be done i feel very anxious on the subject for the sake of the grand science of physiology especiallyas an enactment advised by leading physiologists would have much moral influence on students and others pray believe me yours very sincerely charles darwin', 'down beckenham kent june 12 1874 my dear dr sanderson i have just read your article in nature it is very interesting in my opinion cd not be better done i look forward to the next number in which you will give your discovery which the more i think of seems to me the more important i hear from frank that your illustrations were capital i did not answer your last note as i had then much to do i hope after a week or so to receive an account of your digestive experiments i must add that i have found another plant pinguicola which catches flies can also digest yours very sincerely ch darwinp s i read several years ago a paper in i think report of brit assoc j i think by dr c b or dr fraser on the physiological action of various salts acids when injected with the blood of animals i think isomeric or isomorphous substances acted in nearly the same manner i remember i thought the extremely curious but i never thought that it wd concern me to use it for amusement i hear in time many acids and salts on drosera i shd much like to read the paper again ch d a card with reference wd be amply ', 'june 21 down beckenham kent my dear dr sanderson i have received am heartily obliged for the acids the fibrin 2 spec of fibrous cartilage you do not know how valuable the fibrin has proved both drosera pinguicola have quickly dissolved every atom so that i cd have fallen into a grievous error said that neither could wholly dissolve fibrin no doubt what i saw left undissolved was impurity in the wretched fibrin which i before employed thus the great and horrid anomaly is removed but then remains another if i understand rightly viz that artificial digestive fluid dissolves the fibrous basis of decalcified bone if this is so i must try drosera again as it is just possible that d would not attack the tissue until it hadremoved every atom of the phosphate and cd free animal matter the second anomaly is about gluten i prepared it myself by washing it in water till i got my finest pale brown substance but there may have been some corn starch left how i am to extricate this i know not i have just read with very great interest your 2 articles on dionaea it is most wonderful that there cd be that identity between muscle a leaf i fear that youmisunderstood me on one point the aggregation of the protoplasm does not occur until sometime after the movement has occurred but to look closer to this point has been a subject on my list for closer observation for some little time again aggregation occurs with no movement as when too strong a dose viz 2 or 3 gr of carbonate of a to 1 oz is given i do not think i expressed in my last note how very much i was pleased by your very kind encouraging notice of my work yours most sincerely ch darwinbottom of page sanderson written lightly p s may have made a small mistake has sent me vertebrate bones with no cartilage but frank has now come home knows fibro cartilage will get me some from a joint or from the butchers ', 'down beckenham kent july 25 1873 my dear dr sanderson i shd like to tell you a little about my recent work with drosera to show that i have profited by your suggestions and to ask a question or two 1 it is really beautiful how quickly well drosera dionaea dissolve little cubes of albumen and gelatine i kept the same sized cubes on wet moss for comparison when you were here i forgot that i had tried gelatine but albumen is far better for watching its dissolution absorption frankland has told me how to test in a rough way for pepsine in the autumn he will discover what acid the digestive juice contains 2 a decoction of cabbage leaves green peas causes as much inflection as an infusion of raw meat a decoction of grass is less powerful though i hear that the chemists try to precipitate all albumen from the ext of belladonna i think they must fail as the ext causes inflection whereas a new lot of atropine as well as the valerinate produce no effect 3 i have been trying a good many experiments with heated water i got a new chemical therm and placed the longbulb obliquely not touching the bottoms of the with 3 oz of i moved the about a temp of from 100 to 125 fahr causes strong inflections within 10 minutes a temp from 80 to 100 causes some inflection but after a much longer time at 130 there is never any inflection but the leaf is not killed as is proved be subsequent inflection when placed in a sol of carb of ammonia by re expansion when afterwards placed in pure water the vitality of the leaves is also shown by the aggregation of the protoplasm when the leaves are give carb of amm all this holds good until the leaves are heated up to or above 145 between 145 and 151 there is a remarkable change the glandsbecome as white as porcelain there is no inflection nor aggregation of protoplasm when they are immersed in carb of amm should you not call the following case one of heat rigor two leaves were heated to 130 and had every tentacle closely inflected one was taken out and placed in cold water it re expanded the other was heated to 145 had not the least power of re expansion is not this latter case heat rigor if you can inform me i shd very much like to hear at what temp cold blooded invertebrate animals are killed 4 i must tell you my final result of which i am sure of the sensitiveness of drosaea i made a solution of 1 pt of phosphate of amm by weight to 218 750 of water of this sol i gave so much that a leaf got 1 8000th of a grain of the phosphate i then counted the glands each cd have got only 1 1 552 000 of a grain this being absorbed by the glands sufficed to cause the tentacles these glands to bend thro an angle of 180 such sensitiveness requires hot weather and carefully selected young yet mature leaves it strikes me as a wonderful fact i must add that i took every precaution by trying numerous leaves at the same time in the sol in the same water which was used for making the sol 5 if you can persuade your friend to try the effects of c of amm on the aggregation of the white blood corpuscles i shd very much like to hear the result i hope this letter will not have wearied you believe me yours very sincerely charles darwin', 'wednesday april 7 dear mr darwin i send you a fair copy of the memorial we have made another copy so that i am ready to proceed but i think i shall do nothing more until i hear from paget have again seen you i will if you will allow me call tomorrow morning very truly yours j burton sanderson', 'sanderson 49 queen anne street w may 6 dear mr darwin i write in haste to save my pen i have only time to say that lyon playfair called on me yesterday to tell me that lord cardwell had accepted hisbill undertaken to introduce it lord shaftesbury has also agreed to support it playfair will himself of course take charge of it in the h of commonsi think it probable that dr playfair has himself but send this note in case he should not very truly yours j b sanderson', '49 queen anne street may 23 dear mr darwin i have no doubt that mr playfair pressed upon by men whose avowed object is the suppression of science has gone too far in his direction of compromise i am delighted therefore to think that compromise is at an end its certainly a great shame that for the sake of a popular clamour supported by no facts it should be necessary to consent to an exact com ment which would make it penal to teach science in the only way that it can be taught effectively is it really too great a sacrifice to make i hope that his full enquiry which will now take placewill result in the securing of the interests both of scientific teaching scientific research may i suggest that it would be well to send to playfair a copy of huxley s letter on the subject i have written as clearly as i can have sent him his litchfield letters very truly yours j m sanderson', 'march 10th 1880 abinger hall dorking my dear mr fox i write to offer a word to thank you for your second most recent letter i am glad that your poor father s suffering is over that his end was so tranquil i have now before my eyes his bright face as a young man so full of intelligence i hear his voice as clearly as if he was present your mother must have gone through terrible suffering during his long illness my wife joins me in saying how deeply we sympathize with her please believe me yours very sincerely charles darwinch w fox esq broadlands sandown isle of wight', 'april 10 1875 dear mr darwin if the alterations as i have made them seem to you sufficient i think we may make them without consulting any of thosewho have already signed for they involve no change even of words only change of order arrangement the changes are however sufficient i think to avoidrisk of misconstruction i am afraid that i shall not be at home tomorrow after 10 30 but i will come and see you before that time or at one clock if it appears toyou desirable if in passing you will leave a card for me with the hour on it i will understand very truly yours jb sanderson', 'down beckenham kent railway station orpington s e r my dear friend i think you warmly for your affectionate most kind letter if we may not call each other friends i do not know who have a right though from my unfortunate health from our mutual distance we have seen little of each other since those happy days in cambridge at merton elsewhere i amvery sorry to hear about your daughter it is the greatest misery possible we have had much now have more anxiety about my son in law in litchfield who was so ill in switzerland and who had a relapse last night had another occasion of pain i organic mischief following from so much muchrepeated inflammations george is in algiers is enjoying himself there but his health is not at all better i grudge his want of health especially as he has unlimitable energy constant craving to work on phospholipid points with respect to plants i find it adds greatly to myinterest in being able to discuss all subjects with him william is extremely happy with his wife farewell my dear old friend yours affectionately charles darwinenvelope the rev w darwin fox broadlands sandown isle of wight', 'may 5 my dear dr sanderson i had such a lot of letters to write that i did not at once thank you for the acid experiments which will do splendidly to print just as you have sent them i shall be very curious to hear about gluten which i see in watts chem dict is a very complex product it contains something which excites drosera greatly but it is not all dissolvedlike albumen i am now trying dentin enamel as far as i can yet provisionally see the secretion does not touch the enamel but decalcifies the dentin without dissolving the fibrous tissue but i shall know more in a week s time when the leaves have done all that they can i suppose the drosera with be beaten that gastric juice will dissolvedecalcified fibrous tissue of bone i find the drosera can do little with fibrin but when i have written out all my notes see what i actually know i will apply for some to me invaluable aid yours very sincerely ch darwin', 'down beckenham kent march 21 1874 my dear dr sanderson i send registered by this post my m s on the habits of the dionaea if you have patience to read it you will perhaps find something useful for your lecture as some parts seem to me curious i have not attended to style only to intelligibility but i have endeavoured to my utmost to be accurate please sometime do returnthe m s as it will serve to be hereafter licked into shape you must understand that my observations were intended only as complementary to those on drosena if i were in your place i shd get my wife to read the m s aloud to me but if mrs sanderson hears of this hint she will say that i am an unfeeling wretch yours very sincerely ch darwinp s my son frank wd be delighted to attend as your assistant at your lecture if this wd be of any use to you ', 'down beckenham kent sept 14th my dear dr sanderson i have been extremely glad to hear what frank has told me and i am very much obliged to you for having allowed him to aid you it seems a fine discovery and i should think would lead to much further research i am very glad that you are going to report on it to the brit assoc thanks for the paper which i will keep for a week or two as i find i only have the second part and now i am going to beg a favour of you which i stand in great need of viz a small quantity of a few pure animal substances namely fibrin albumin mucin or any others which are tolerably distinct perhaps you could persuade dr brunton to aide me in this of fibrin i want for a distinct and special purpose nearly a drachm but of other substances much less thefibrin must be absolutely pure of all salts for the special purpose in view i e to excite acid secretion get the acid ascertained frankland is away miller is dead and hoffman at berlin and i now know noone else to whom to apply do you know any professional chemist whom i could pay and who could be trusted to prepare such substances pure the reason of my wanting these substances is that i find absolutely pure gelatine formerly given me by hoffman does not cause drosera to be inflected though does again as far as i havegone though my experiments are not completed neither casein nor gluten from wheatflour affects drosera as meat of all kinds dead insects of all kinds and white of egg all act most energetically i am very anxious to know what pure animal compounds will act it seems even possible that this subject might throw a little light on animal digestion for i see old muller suspects that something more than gastric juice is required to digest certain animal substances yours very sincerely ch darwin', '49 queen anne street march 30 dear mr darwin i sent you the results of our experiments i attach much more importance to those relating to the three fatty acids than to the rest theywere very carefully made and yielded sharply defined results they shew that each of these acids possesses the power of enabling pepsin to act on fibrin though in less degreethan hydrochloric acid if you make further experiments with the plants this summer i would like to cheque them by comparison with pepsin digestion very truly yours jb sanderson', 'down beckenham kent railway station orpington s e r july 16 75 my dear sanderson i have read your essays with the greatest interest am much obliged to mrs sanderson for having sent them i had no idea that so much light had been thrown on the subject if dr bastian knew of these articles he has not written quite fairly in his recent articles i wish your essay had been longer that you had said somethingabout mr lister s observations i remember being astonished at the cool way in which dr bastian spoke of life being always destroyed at 150 degrees with organisms living in hot springs staring him in the face some little time ago mr simon sent me the last report your statements about contagion deeply interested me by the way if you see mr simon can remember it will youthank him for me i was so busy at the time that i did not write having been in correspondence with paget lately on another subject i mentioned to him an analogy which has struck me much now that we know that sheep pox is fungoid this analogy pleased him it is that of fairy rings which are believed to spread from a centre when they intersect the intersecting portion dies out as the mycelium cannot grow where it has grown during previous years so again i have never seen a ring within a ring this seems to me parallel case to a man commonly having the smallpox only once i imagine that in both cases the mycelium must consume all the matter on which it can subsist with respect to drosera i will modify the passages about globulin etc but i thought i had made it pretty clear that these substances were not pure they to a certain extent answered my purpose in showing that they were acted on in the same manner by drosera and gastric juice i did not know dr moore was dead otherwise i should have spoken more plainly i do not know anyone who could attempt to separate the ferment i suppose there would be the greatest difficulty in doing so as all my observations lead me to believe that the ferment is not secreted until some nitrogenous matter has been absorbed would not the addition of such matter make the separation extremely difficult i feel a good deal of anxiety to know what competent critics may say about my chapter on digestion my dear sanderson yours very sincerely ch darwin', '49 queen anne street march 23 dear mr darwin my very best thanks for the m s it will be invaluable to me we are just now many winter lectures at university college being over looking forward to spending a week among the spring flowers we shall take the m s with us and my wife will read it to me just as you propose or perhaps i shall read it dictate notes to her please thank your son frank for his kind offer of help of which i shall certainly avail myself all the experiments about digestion are com plete i will try to send them tomorrow believe me very truly yours jb sanderson', '49 queen anne st april 23rd dear mr darwin i received your letter this morning i have read noted the contents of the which i return to you i will write to lyon playfair asking him to see me after he has read the bill which you will have sent him i think his licensing of places objectionable buttoo impractical to be likely to be adopted by parliament places cannot be made responsible so that licensing them would not prevent abuses supposing such to be likely to occur i have not yet received dr s signature otherwise we have them all i cannot after careful consideration see that it wouldbe advisable to suppress his petition i have sent some notes to mr litchfield on his iind section particularly 4 i e the last paragraph it is rather disagreeable to think that these miserable people will be going on agitating till next year i had a choice anonymous letter the day before yesterday asking for a style of his other world for me yours j b sanderson', 'feb 12 75 dear mr darwin potassium phosphate is certainly decomposed in the animal body a double decomposition no doubt takes place between it and common salt which is always present by virtue of which potassium chloride sodium phosphate are produced it appears to me likely that the reason why potassium phosphate does not act upon drosera is this that it is present in considerable proportion in the juices of plants consequently probably in drosera i think it would be foundthat to those salts which are present in the plant it is indifferent even though it may be excited by others which are chemically closely allied to them with reference to the subject of experiments on animals i have afterconversation with mr huxley prepared a memorandum intended to serve as the basis of a petition it is now in his hands i have lately been considering very carefully the whole question and am of course very anxious that if anything is done it should be done in such a way as to promote rather than to hinder the progress of science believe me dear mr darwin very truly yours jb sanderson', '49 queen anne april 14th 1874 dear mr darwin i received your letter this morning i should think that it wd answer the purpose to write to lord derby for also important is that the government should know that a bill is being sketched that they must not commit themselves i had a note today from sir robert christison who after expressing himself very energetically on the subject of the present agitation concludes there should be no compromise except to forbid vivisectional demonstrations to classes which i always thought both useless and cruel i have not seen mr huxley the notion of an inspector appears to me absurd it would be in the first place absurd to appoint one man to inspect half a dozen others of at least equal status with himself there is no comparison between experimentation and anatomical dissection every student must dissect but not one in a hundred need takepart in any vivisection moreover an inspector would be of no use in putting a stop to domestic experimentation very truly yours jb sanderson', 'at h wedgwood hopdene dorking may 26th my dear fox you will see that we are not at home shall not return for 42 days as i much in need of a rest change so i am very very sorry that i shall not be able to see you this time your enquiries about she is in a piteous state has now been confined to herbed for 20 months she is a little better now has been whether she cd return to faith hill in a special tram bed carriage but it is she is yet too weak god knows whether she will ever return my son william of southampton has hada serious accident his horse fell and caused of brain but he is on will is i hope next week he will be able to go to and then we shall know how long precautions must be taken but i fear it will be months before he will be quite himselfagain i hope mrs hughes whom i remember so well will go on well what a load of illness and misery there is in the world was very kindly to mrs fox i had forgotten it was 30 years since her visit your old friend c darwinthe revd w darwin fox woodlands hampstead london n w ', 'down beckenham kent my dear dr sanderson i grieve to find that i kept only a few particles of the globulin of the so called haemoglobulin but i don t think it could be tried on a small of the artificial gastric juice the case however interests me so much as well as that of the mucin that i thought i wd get some more globulin from dr moore if the few particles sent do not suffice if you do not find the much larger parcel previously sent to you ishd be very glad to know what i might to call the haemoglobin that is if you can tell by its appearance perhaps dr brunton knows about the digestion of chlorophyll by animals will you ask him when you ask about gelatine chondrin though i daresay some is correct that my chondrin was not as pure as the selection prepared by hoffmann i hope trust the trial of theproprionic butyric valeric acids will not be very troublesome it might i wd think on some physiological grounds to be ascertained how far these acids will replicate hydrochloric you have been very very kind to aid me in so many ways yours most sincerely ch darwin', 'march 31st down beckenham kent my dear dr sanderson how carefully excellently you have made the experiments which i fear must have cost you much trouble they will be most useful to me especially those on the acids i am greatly obliged to you there in one point which you do not mention and which i ought to know viz the temperature at which the experiments were tried drosera digests at ordinary summer temperature as far as casual observations serve almost equally wellduring ordinary summer weather very hot weather if you tried your experiments at the heat of human body or above that it is just possible that the fatty acids would turn a better with the hydrochloric at lower temperatures would it not be worth while to try one of the fatty acids and the hydrochloric at ordinary temperatures again heartily thanking you yours very sincerely ch darwinp s i do not at present think that i shall try more digestion experiments with drosera this summer not but while i like the work much your most kind offer is very tempting but then i have other matter almost ready for publication and which if i go on i shall never have strength to publish p s 2 if all the gobulin which i sent had not been used or thrown away will you return me a few grains as i shd like to try a few particles on drosera oiling the plant with a minute drop of very weak hydrochloric acid ', 'bassett southampton down beckenham kent railway station orpington s e s may 13 79 my dear sanderson i have been astonished by the announcement yesterday that the r coll of physcns has awarded me the baly medal i am asked to attend to receive it after the harveian oration i mention this because i have thought that you could giveme some idea how long this oration lasts at what hour it takes place for i am not a little afraid of the exertion am i expected to make any speech if so would a few words suffice any information would be gratefully received who was baly was he the translatorof muller pray forgive me for applying to you in my perplexity yours very sincerely charles darwin', 'down beckenham kent sept 13 1873 my dear dr sanderson how very kind it was of you to telegraph to me i am quite delighted that you have got a decided result is it not a very remarkable fact it seems so to me in my ignorance i wish i could remember more distinctly what i found out of dr du bois raymond s results my poor memory never serves me for more than a vague guide i really think you re right to try drosera in a weak soln of phosphate of ammonia 1 gr to 20 oz of water it will contract in about 5 minutes even more quickly in pure warm water but then water i suppose wd prevent your trial i forget but i think it contracts prettyquickly i e in a hour or two with a larger drop of a rather stronger soln of the phosphate or with an atom of raw meat on the disc of the leaf very many thanks for your note just received do not hunt up for your copy of your paper for the r inst honoured me some years ago by making me a member i find thati have the volume beginning about atrofina which no doubt i formerly read yours most sincerely ch darwin', 'down beckenham kent tuesday september 9 1873 my dear dr sanderson i will send up early tomorrow two plants with 5 goodish leaves which you will know by their being tied to sticks please remember that the slightest touch even by a hair of the 3 filaments on each lobe makes the leaf close it will not open for 24 hours you had better put 1 4 of inch of water into the saucers of the pots the plants have been kept too cool in order toretard them you had better put them on rather warm i e temp of warm green house for a day in good light i am extremely glad you have undertaken this subject if you get a positive result i should think you ought to publish it separately i could quote it or i should be most glad to introduce any note by you into my account i have no idea whether it is troublesome to try with the thermo electric pile any change of temperature when the leaf closes i could detect none witha common thermometer but if there is any change in temperature i should expect it would occur some 8 to 12 or 24 hrs after the leaf has been given a big smashed fly when it is copiously secreting its acid digestive fluid i forgot to say that as far as i can make out the inferior surface of the leaf is always in a state of tension that the contraction is confined to the upper surface so that when this contraction ceases or suddenly fails as by immersions in boiling water the leaf opens again or more widely than is natural to it whenever you have quite finished i will send for the plantsin their basket my son frank is staying at 6 queen anne st comes home on sat afternoon but you will not have finished by that time yours very sincerely ch darwin p s i have repeated my experiment on digestion in drosera with complete success by giving leaves a very little weak hydro chloric acid i can make them digest albumen i e white of eggs quicker than they can do naturally i most heartily thank you for all your kindness i have been pretty bad lately must work very little ', 'down beckenham kent oct 9 74 mr dear dr sanderson i am going to beg your opinion information on one point if you can give it i am finally working up my long chapter on digestion by drosera i find that fibrin areolar tissue the fibrous basis of bone gelatin all agree in being easily dissolved by the secretion but none of them excite the leaves much incomparably less than meat albumen etc fibrocartilage behaves in the same wayexcepting that it is never thoroughly liquefied now what i want to know is whether these substances viz fibrin areolar tissue the fibrous basis of bone gelatine fibrocatilage are chemically or physiologically allied their action on animals to which they are given as food for instance is it known whether a dog would perish as soon when fed on fibrin as on gelatine i should be gratified for any scrap of informationon this lead you will see that i speak of the fibrous basis of bone is this a correct expression in almost every page of my ms i feel how much i owe to you yours very sincerely ch darwin reply on carefully considering the fact notice viz that the bodies fibrin aerolar tissue gelatin the fibrous basis of bone differ for meat albumin in test exciting on leaves of drosera that the diffc may be dependent on the that the former one used in a prepared i e washed over the as a crude i e un worked consequently heat in the latter heterogeneous stuff soluble in water water extractive is present as the former absent and in as much as the first for chemical excelator is excel material should be soluble this may explain the difference i think it probable that thoroughly worked meat would act less exciting than less worked ', '49 queen anne st wednesday ap 28 dear mr darwin i have put myself into communication with l playfair but have not yet received his answer i have taken no further steps about his petition all who have signed it at my insistence have done soon the understanding that it would not be presented unless an objectionable bill were actually introduced in the meantime i will take no further steps without communication with you i will write again as soon as i have seen playfair yours very truly jb sanderson', '49 queen anne st april 12 dear mr darwin i write a line to say that after seeing mr litchfield this morning he was kind enough to with his copy of his draft bill i went down with to talk to mr simon told him what it was proposed to do he made a number of suggestions which i will send to mr litchfield mr simon thinks that it wd best promote his object if you would see lord derby yourself simply ask him to engage mr crossnot to comment himself for his purpose it would be sufficient merely to let lord derby know that such a bill had been prepared that it had received concurrence of scientific men particularly of those interested in physiology mr simon thinks that his next step would be to arrange a small deputation to mr cross of which deputation he would be glad to be one i have received the adhesions of sir and prof garner believe me ever yours sincerely j b sanderson', 'july 10th 1878 my dear fox i was indeed grieved to see yesterday in the times the great loss which you have suffered i know well what misery this loss will cause to your affectionate disposition to poor mrs fox emma desires me to say how much she sympathises with you both it is no use whatever my writing but i could not endurenot to do so i hope she did not suffer much do not write to me unless doing something is a little relief to you god bless you my dear old friend i hope you mrs fox are fairly well in bodily health yours affectionately charles darwin envelope the rev w darwin fox sandown isle of wight', '49 queen anne st saturday dear mr darwin i have again seen l playfair he is going to going to ask leave to bring in his bill on monday he has had a meeting with lord hartimann but without immediate result i e lord h has notpromised to withdraw his bill he showed me his bill this morning with the necessary procedure clauses added and the definition clauses relating to the words animal experiment i hope it may be successful but am glad to feel sure that even if it is not it will effectually bar out the other most objectionable measure by next year it is anticipated thateverybody will be wiser very truly yours jbsanderson', 'march 29th 1880 my dear mr fox i had heard that your father was out of health but had not the least idea that he was seriously ill your letter grieves me much you all have my deep sympathy it has touched gratified me much that your father should have thoughts of me at such a time but he was always full of sympathy i saw a great deal of him in the days at cambridge we went to breakfast together daily in the course of my life now a long one i can truly say that i have never known a kinder or better man i can therefore feel what a losshe will be to you all i gather from your letter that he does not now suffer much this is some comfort believe me my dear cousin for we are cousins though in a remote degree that i am grateful to you for having written i remain yours very truly charles darwincharles w fox esq broadlands sandown isle of wight', 'or will germany having a southampton return home next monday i shall soon work in some new facts in my on digestion by drosera i want to ask one question you can let mesuggested was ted but when not it was never completely digested the residue does not consist solely of starch in your experiments with artificial digestive fluid with of fatty acids did you find the gluten which had not been soaked in was digested or imperfectly one other result has surprised me viz that fibro cartilage is not digested my son frank made with and h acid some artificial digestive fluid which at the temperature of a well digested but would not digest fibro cartilage though it rendered it swollen just as did drosaea you must read hooker s address to section at belfast see what a magnificant digestive is i have been almost driven mad by which catch no end of but cannot digest i believe though i cannot prove it that it absorbs the products of putrefaction yours most sincerely ch darwin', 'down bromley kent 8th my dear fox i write just to say the splendid cock had arrived now i have got your letter i am most sincerely sorry my dear old friend at all the great suffering you have undergone i have always understood that lumbago sciatica cause extreme pain how much illness you have had in your life at different times how much misery it is lucky when young that one does not foresee the future i do hope that the waters are so nasty that they will do yougood we are all well here except for my poor dear wife who is wretched perhaps in family way has been wretched for weeks i fear that it will stop i have been working of late very hard have now an enormous correspondence i think i shall make an interesting collection of domestic for promises are coming in from all quarters this morning i heard from rajah brooke with promises of energetic assistance and hon cl nurny says pigeons fowls are on this road forme from persia as are others from e and w superimposed africa at the present moment i am most interested about domestic rabbits having just sent an angora to be skeletonised having compared a p santo common hare rabbit skeletons found i believe most remarkable differences ducks too are my delight pray do not forget a call drake or duck if you shd have the misfortune oh what hypocrisy to lose one can you tell me anything about difference in habits in rabbits do you know any breed of ducksbesides tufted hook billed both of which i have had from holland penguin call black indian or b agres duck even sub wl be of value to me on account of doubt on origin i have come to care more about them pigeons than about poultry not that i shall give up poultry mr c lyell was staying here lately i told him somewhat of my views on species he was sufficientlystruck to suggest has since written 10 strings to urge me to me to publish a sort of preliminary essay this i have begun to do but my work will be horribly imperfect with many mistakes so that i groan tremble when i think of it by the way i want just to put as an illustration of singular in organisation that i have been assured by mr w d fry that he hasnever seen or heard of a blueish grey cat which was not deaf may i quote you or must i put in friend do you still believe in the generality of fact might i say that you have seen or heard of as many as 6 but please mind do not answer this note if it pains or troubles you i do mosttruly regret that you were not able to pay us a visit i shd have so much enjoyed it my dear old friend yours most tly ch darwin i have sent you a very long note all about myself and now to write to borneo the cape of good hope the rev w darwin fox old parsonage high harrowgate c darwin june 10 56', 'recollections of a visit to mr darwin dec 19th he met me in his entrance and took me upstairs to the usual high seat in his drawing room he was as usual full of kindness said it always did him good to talk with me he was sorry i had come so far etc he said mr f darwin was about writing a review for nature of wiessmann s essay he had read the abst of my r s paper wished to keep it for f d to see he did not understand a good deal of it i explained about the transmission he was interested to hear about engelmann s conclusions from his dissection on muscles as to the mecha nism of contraction then he told me what he had obsd in dionaea about the aggregation produced in the cells by the action of weak sol of carbonate of ammonia also about the ag gregation phenom in drosera which pfeffer had written to him could not be considered as protoplasmic at all then he went on to the vivisection matter saying how gratified he was that an association was being formed that he thought it very important that information should be circulated among medical men for usein informing the public he told of a conversation had had with mr farrer who had been staying with chamberlain at burmingham who speaking of free said that it was certainly useless to try to argue with people on general principle you must show what the effect of a return to protection wd be on the price of a 4 p loaf responds v v it was necessary to offer con crete examples of actual good effects the argument that physiology owed its exis tance to egypt that pathology sprung out of physiol medicine was founded on had no effect whatsoever on the generality of people he thought paget s article for more calculated to do good wilks related the influence it had had in convincing mr farrer he told of the lady who had kindly expressed her hope that the turn wd come when he paget wd be flogged through the at a ', 'down beckenham kent dec 29th 1880 my dear dr burdon sanderson if you would not object to sign the enclosed certificate for my son francis it would greatly please him me but you must not think of doing it if you doubt about the propriety of his candidateship i enclose an awful envelope and remain yours very sincerely c l darwin please enclose a slip of paper with the date of your lecture at r institution cd', 'down beckenham kent my dear dr sanderson i have just seen prof frankland and he says that he will send to you in about a week s time some proprionic and butyric acid as well as some valeric acid so as to complete the series for he thinks that it might have been valeric acid instead of butyric mixed with acetic which was indrosera and if you will try these acids for artificial digestion i shall be very much obliged on my return one i will send the globulin and haemoglobin yours very sincerely ch darwin nov 15th 2 bryanston st portman square until early tuesday morning ', 'down beckenham kent june 26 my dear dr sanderson your letter is quite invaluable to me i thank you heartily nothing can give me more pleasure than to see you here to show you anything which you like about drosera i will write again ask you to propose which day to come here to sleep i have asked for sir c lyell to come here who as you know has lately lost hiswife told him if he liked to come that there would be no one here i will write again heterogeneous fluids can hardly act as a unless indeed they act merely by exciting molecular movements in adjoining molecules this view coincides with my conclusion for atoms of glass cotton thread less than 1 50 000 of a grain inweight excite movement what is more confusing cause the fluid contents of cells forming the tentacles to undergo a change my description of this has so much impressed huxley that he is coming down tomorrow night to see the phenomen i have put 1 gr of the to dissolve but it dissolves very slowly when i began to try on drosera over 12 or 15 years ago my object was to see whether the poisons affected the plant or if any of its tissueshad the same properties as the newer tissues of activity but i was disheartened from want of knowledge had not time to go on i wd never have dreamed of trying glycerine 4 to 1 oz of water causes the tentacles to bend i e those tentacles the glands of which have absorbed a most minute quantity of it therefore i expect that tomorrow morning the magnified tentacles will probably be infiltrated with cordial thanks yours very sincerely ch darwin', 'dear mr darwin i have just read your letter as mr huxley is coming this morning it would i think be useful to ask his opinion as to the persons who ought to have the right of certifying the fitness of applicants for licence i think that allpersons who occupy the position of public teachers in institutions recognized by act of parliament should have the right to apply to the lord president for licence without attaining certificate as fitness imagine for a momentdr sharpey applying for a certificate to the president of the college of surgeons very truly yours jb sanderson', 'down beckenham kent oct 13 1874 my dear dr sanderson many thanks for your suggestion but i doubt whether it is sufficient the tentacles close very slowly over the 5 specified substances this might be accounted for by their pure state but the important fact is that they subsequently re expand so much more quickly than over minute insects meat albumen etc it is chiefly this latter fact which makes me concludethat the 5 substances are but little exciting probably not very nutritious i made so many experiments with gelatine that i can hardly doubt that this conclusion is true with this substance klein speaks handbook phys p445 as if areolar or connective tissue the fibrous basis of bone were of a gelatinous nature this made me suppose that perhaps fibrin fibro cartilage were likewise allied to gelatine as gelatineis so little nutritious to animals i imagine that the little action of these 5 substances on drosera might be thus explained my best plan would be i think never to call attention to the small power of the 5 substances on drosera and to say if you admit the truth of my inference from klein areolar tissue the fibrous basis of bone were allied to gelatine that gelatine was little nutritious to animals i fear from what you say that i may not add that fibrin fibro cartilage god knows what is the nature of fibro cartilage were likewise allied to gelatine if you have anything further to remark i shd be grateful for a note with many thanks yours very sincerely ch darwin', 'letterhead n a bassett southampton my dear dr sanderson i am much obliged for your letter which has been forwarded to me here but i return home next thursday i assure you i felt quite guilty when i read in the times your grand address on physiology at the thought that i had troubled you at such a time with my queries i quite understand what yousay about heat rigor i should think that it would be extremely interesting to ascertain whether there is any electrical change in the leaves of drosera when they are excited but i should think dionaea would be much better for the purpose as far as i can imperfectly make out the lower surface of the leaf in dionaea and of the tentacles i e tions of the leaf of drosera is always in a state of tension but is over mastered by the contraction of the upper surface alone therefore i imagine that theupper lower surface would exhibit an electrical change if such there be during the act of inflection now dionaea from the large size of the leaf and from the suddenness and greatness of the movement would be the best to operate on if on further reflection you are willing to investigate this point i would gladly send you by a servant plants in good condition for i suppose you would require to have the plants at the institute and not at down if you obtained any results it seems to me that it would be a remarkable discovery and well worth your publishing i had thought that it might be worthwhile to test dionaea during inflection by the thermo electric pile a common thermometer gave no indication of any rise of temperature so that it seems very doubtful whether the experiment would be worth trying if you find you have time and inclination to examine dionaea or drosera under the foregoing point of view please do let me hear with many thanks your very sincerely charles darwin', 'down beckenham kent may 14 1874 my dear dr sanderson i am very much obliged about the gluten what you are going to do is just what i shd have asked viz to see whether any indigestible residue is left for this always happens with gluten on drosera now that i have written out my notes by far the greatest anomaly which i found is that fibrin is never wholly dissolved watts says it is not a homogenous substance i much want you to put a bit of fibrin with an excess of pepsin and propionic or butyric acids i think the former wd be best as nearest to the acid of drosera see whether at the ordinary temp of the air the whole of the fibrin is dissolved or whether a residue is left this experiment is of the greatest importance to me as it will tend to shew whether the failure of drosera to digest the whole of the fibrin is due to the acid or nature of the ferment it is possible that the fibrin which i have used preserved in glycerine may be bad wd you therefore be so kind as to put an atom of that herewith sent into pepsin and hydro chloric a see if it is all dissolved like true fibrin if mine provesbad will you send me an atom of good fibrin i know well that i am giving you great trouble but as my notes are now written out i have come to the end of my requests so i will go on if you wd try minute cubes of albumen with pepsin and propionic or butyric acids at ordinary temp the whole ought to be dissolved if the ferment of drosera has the same power as pepsin this experiment is manifestly very important for me when you tried the globulin prepared by dr m which i sent you can you remember whether the splinters remained sharp as happens with drosera i now find that particles of this globulin left in coldwater for 3 days yields something soluble which acts energetically on drosera though the sharpest angles are not rounded by the secretions or by water i dare say it was this soluble matter which was dissolved in your experiments with globulin in pepsin and h a can you send me a bit of fibro cartilage from any animal to try on drosera i am so ignorant i might blunder i have tried cartilage lastly can you spare me a grain or two or if liquid a few drops of propionic butyric valerianic or oleic acid i find immersion in olive oil has a potent effect on drosera i suspect the fatty acids heaven forgive me for making so many requests believe me yours very sincerely ch charles darwin', 'may 27 down beckenham kent my dear dr sanderson your information is invaluable to me for heaven sake do not apologize for delay for it s making me feel more guilty in having given you such immense trouble if the fibrous basis of bone is dissolved by artificial gastric juice if as i understand the gluten the fibrin is dissolved with the fatty acids pepsin the ferment of drosera must differ consistently from pepsin yours very truly ch darwin', '', 'august 28th 36 gt marlborough st top i suppose you heard long ago by the papers of henslow s good living is it not glorious i think we shall live to see him my lord bishop if so the whigs will spoil a good naturalist but make an excellent bishop side part of a letter of c darwin s came with mine from isle of wight emma my dear fox i take shame to myself for not having sooner answered your letter and such a letter deserved more gratitude i partly waited that i night be able to tell you more definitely my plans the proof sheets are beginning to tumble in so that i shall be tied by the leg hard at work as any galley slave during the next five weeks i then mean to run down to shrewsbury for a few days as actually since the middle of the winter i have only been able to pay them one visit of nine days it is a good joke that during the whole five years i was longing most sincerely to be at shrewsbury now time glides by i am stewing in this great den of a place how i shall like a good walk or a good days shooting with you on a fine clearautumnal day when everything does look so very beautiful in the whole world there cannot be anything more delightful than a wooded country in england during the autumn i recollect the day i shot the ears of an unlucky pointer which always sticks in my conscience at some farm to which we drove was one of those glorious days but to go on with my plans after taking a peep at shrewsbury maen i come back to marlborough st begin in earnest with pure natural history i quite forget whether when i last wrote the government had given me a 1000 to illustrate zoology beagle s voyage i shall not have much to do with it beside superintendence but it will consume time whilst this is going on i shall be trying to make progress with the factory but writing is most tedious difficult work till lately i had not the slightest idea what a difficulty it was to', '49 queen anne street friday april 30 dear mr darwin the day before yesterday dr l playfair called upon me he entirely approves of the bill is quite prepared to introduce it in case that should seem to be the best course yesterday he was to see ld cardwell and to show it to him i feel sanguine in hoping that ld cardwell will be induced to adopt it for this reason mr colam the secretary of the s for the p of c to a called on me yesterday and developed to me their scheme it appears to be substantially the same as ours certainly not more restrictive they the society regard it as lord cardwell s he having approved of it consequentially i think there isgood reason to hope that a compromise will be effected as soon as it is effected it would i think be well that it should be known as generally as possible that such a measure has the support of our side l playfair seems to think that if ld cardwell adopts his bill or one which he can approve of it could be passed this session i have also seen sir who has been in personal communication with ld cardwell says that he desires to meet the wishes of scientific men on the subject to act in such a way as to secure their cooperation i think it very satisfactory that the society for the prevention are willing to cooperate with us yours very truly j b sanderson', 'p j w br has just been here he wd have signed the certificate had he not been on the council 7 white rock place hastings dec 31st 1880 dear mr darwin your letter with the certificate has been forwarded to me here i have great pleasure in signing it the date of my friday evening lecture about which you are so kind as to enquire is february 25 i send a ticket as a memorandum of the date i came here chiefly for the purpose of writing or at all events preparing it my leading position is that in the excitable parts of plants the mode by which the excited part influences other partsat a distance from it is notwithstanding the absence of nerves essentially the same as in the simpler excitable structures of animals prof munk of berlin in his long paper on dionaea as well as sachs denies the possibility of transmissionor propagation of all excitatory effect excepting by migration of liquid i am going to try to make this point plain by a strict comparison of plant water accrual phenomena i have been reading more carefully the movements of plants i am specially interested in the 6th 7th chapters with best wishes for the new year very truly yours jb sanderson', '6 queen anne st sunday 9 30th my dear sanderson i have read the two papers with the greatest interest it is a grand discovery if i understand rightly you will presently have the machine for enclosing an arm observing arterial action should you try any experiments with the machine if you think the following one worthtrying i should be particularly glad it is to test as suggested by my son frank my hypothetical notion on the origin of blushing namely that thinking intently about any part of the surface of the body tends to relax the arteries in that part you wd probably think of some better scheme than i could but i may suggest that a man s arm shd be enclosed his attention directed intensely to his feet then that he shd be induced to think as intensely as possible about the whole surface of his arm this might be perhaps best done by some hum bug vis by asking him to attend to anycreeping sensation or of heat or cold over the whole surface of the arm asking him to declare instantly as soon as he felt any such sensation mr h holland remarked to me long ago that if you thought intensely about any part such as a knuckle or finger it felt cool as if a breeze were blowing on it if my memory does not deceive me i tried this found it true believe me yours very sincerely charles darwin', 'down bromley kent july 6th my dear fox i write one line to thank you for your second most kind letter all is going on very well the nurse has had it pretty severely but the crisis is over no one else hastaken it i hope now will not but we had a fear about our governess but she is out of house we are getting less frightened in every way more composed i have been much knocked up so has my dear wifebut we are now much better etty is too weak to move yet she has not even put on her clothes but our dr is strong for her coming as soon as ever she can we go first to elizabeth wedgewoods then on to the sea but where is our puzzle we much like s side of the isle of wight but it is indispensable on account of etty that the house shd be very near the sea i fear that much does not occur on account of cliffs shd you know anything on the head will you let me have a but do not otherwise trouble yourself to write my dear fox with cordial thanks for all your affection ever yours c darwin', '26 gordon square w c may 14th 1879 dear mr darwin i have this monday received your note it would have arrived yesterday had it not been addressed to queen anne street the baly in whose memory the medal was instituted was the translatorof muller s physiology the donor of the medal fund is mr dyster a friend of baly s and a man much interested in physiology though not himself a naturalist the medal bears the words ob physiologiam feliciter excultam it is given every other year the last recipient was ludwig the previous one bernard the previous one sharpey if you feel that it wd be too fatiguing to attend at the college it is not by any means indispensable that you should do so neither bernard nor ludwig were present if you do come itwill be a great pleasure to your friends the only penalty that you would have to pay would be that of having to listen for an hour to the harveian orator my neighbour dr pitman the registrar of the college assures me that it could be easily arranged that you should come by at the end of the hour in case you feel that this would be too fatiguing it is not necessary i again write on the authority of the registrar for the medalist to say anything in acknowledgment the medal is presented immediately after the oration i may add that mr dyster has expressed his extreme gratification at the selection this college have made on the present occasion i am dear mr darwin yours truly jb sanderson']\n"
     ]
    }
   ],
   "source": [
    "items = []\n",
    "fullTexts = []\n",
    "for itemId in itemIds : \n",
    "    itemUrl = ocApiUrl+'/collections/'+collection+'/items/'+itemId\n",
    "    apiResponse = requests.get(itemUrl).json()\n",
    "    item = apiResponse['data']\n",
    "    easyItem = dict()\n",
    "    easyItem['id'] = itemId\n",
    "    easyItem['title'] = item['Title'][0]['value']\n",
    "    if 'FullText' in item:\n",
    "        fullText = item['FullText'][0]['value']\n",
    "        # Lower case full text\n",
    "        cleanFullText = fullText.lower()\n",
    "        # Remove everything but words\n",
    "        pattern = re.compile('[\\W_]+')\n",
    "        cleanFullText = pattern.sub(' ', cleanFullText)\n",
    "        # Add to the full texts list\n",
    "        fullTexts.append(cleanFullText)\n",
    "        easyItem['fullText'] = item['FullText'][0]['value']\n",
    "    else:\n",
    "        easyItem['fullText'] = ''\n",
    "        fullTexts.append('')\n",
    "        \n",
    "    items.append(easyItem)\n",
    "        \n",
    "print(fullTexts)"
   ]
  },
  {
   "cell_type": "markdown",
   "metadata": {},
   "source": [
    "## Natural Language Processing"
   ]
  },
  {
   "cell_type": "markdown",
   "metadata": {},
   "source": [
    "Now that we've done the boring part of just getting the items and full text we can start to process the full text and perform analysis on it"
   ]
  },
  {
   "cell_type": "markdown",
   "metadata": {},
   "source": [
    "### Total character count"
   ]
  },
  {
   "cell_type": "code",
   "execution_count": 38,
   "metadata": {
    "collapsed": false
   },
   "outputs": [
    {
     "name": "stdout",
     "output_type": "stream",
     "text": [
      "58945\n"
     ]
    }
   ],
   "source": [
    "characterLength = 0\n",
    "for fullText in fullTexts:\n",
    "    characterLength += len(fullText)\n",
    "print(characterLength)"
   ]
  },
  {
   "cell_type": "markdown",
   "metadata": {},
   "source": [
    "### Total word count"
   ]
  },
  {
   "cell_type": "code",
   "execution_count": 20,
   "metadata": {
    "collapsed": false
   },
   "outputs": [
    {
     "data": {
      "text/plain": [
       "11156"
      ]
     },
     "execution_count": 20,
     "metadata": {},
     "output_type": "execute_result"
    }
   ],
   "source": [
    "totalTokens = []\n",
    "\n",
    "c = 0\n",
    "for fullText in fullTexts:\n",
    "    tokenisedText = word_tokenize(fullText)\n",
    "    totalTokens += tokenisedText\n",
    "    items[c]['words'] = tokenisedText\n",
    "    c = c + 1\n",
    "#print(tokens)\n",
    "len(totalTokens)"
   ]
  },
  {
   "cell_type": "markdown",
   "metadata": {},
   "source": [
    "### Item with most words?"
   ]
  },
  {
   "cell_type": "code",
   "execution_count": 62,
   "metadata": {
    "collapsed": false
   },
   "outputs": [
    {
     "name": "stdout",
     "output_type": "stream",
     "text": [
      "https://open.library.ubc.ca/darwin/items/1.0000103 has the most words with 615 words\n"
     ]
    }
   ],
   "source": [
    "#print(items[0]['words'])\n",
    "\n",
    "highestWordCount = 0;\n",
    "highestId= 0;\n",
    "\n",
    "for key, item in enumerate(items):\n",
    "    if(len(item['words']) > highestWordCount):\n",
    "        highestWordCount = len(item['words'])\n",
    "        highestId = key\n",
    "\n",
    "print(ocUrl+collection+'/items/'+items[highestId]['id'] + ' has the most words with ' + str(highestWordCount) + ' words')"
   ]
  },
  {
   "cell_type": "markdown",
   "metadata": {},
   "source": [
    "### Total unique word count"
   ]
  },
  {
   "cell_type": "code",
   "execution_count": 48,
   "metadata": {
    "collapsed": false
   },
   "outputs": [
    {
     "data": {
      "text/plain": [
       "2182"
      ]
     },
     "execution_count": 48,
     "metadata": {},
     "output_type": "execute_result"
    }
   ],
   "source": [
    "len(set(totalTokens)) #todo paste what set does"
   ]
  },
  {
   "cell_type": "markdown",
   "metadata": {},
   "source": [
    "### Item with most unique words?"
   ]
  },
  {
   "cell_type": "code",
   "execution_count": 61,
   "metadata": {
    "collapsed": false
   },
   "outputs": [
    {
     "name": "stdout",
     "output_type": "stream",
     "text": [
      "https://open.library.ubc.ca/darwin/items/1.0000103 has the most words with 297 unique words\n"
     ]
    }
   ],
   "source": [
    "uniqueWordCount = 0;\n",
    "winner = 0;\n",
    "\n",
    "for key, item in enumerate(items):\n",
    "    if(len(set(item['words'])) > uniqueWordCount):\n",
    "        uniqueWordCount = len(set(item['words']))\n",
    "        winner = key\n",
    "\n",
    "print(ocUrl+collection+'/items/'+items[highestId]['id'] + ' has the most words with ' + str(uniqueWordCount) + ' unique words')"
   ]
  },
  {
   "cell_type": "markdown",
   "metadata": {},
   "source": [
    "### Longest words"
   ]
  },
  {
   "cell_type": "code",
   "execution_count": 66,
   "metadata": {
    "collapsed": false
   },
   "outputs": [
    {
     "data": {
      "text/plain": [
       "['acknowledgment',\n",
       " 'affectionately',\n",
       " 'afterconversation',\n",
       " 'circumferential',\n",
       " 'consequentially',\n",
       " 'correspondence',\n",
       " 'darwinenvelope',\n",
       " 'demonstrations',\n",
       " 'dissolvedecalcified',\n",
       " 'experimentation',\n",
       " 'fibrocartilage',\n",
       " 'highlypeculiar',\n",
       " 'intelligibility',\n",
       " 'misconstruction',\n",
       " 'notwithstanding',\n",
       " 'physiologically',\n",
       " 'somethingabout',\n",
       " 'sufficientlystruck',\n",
       " 'superintendence',\n",
       " 'transmissionor',\n",
       " 'youmisunderstood']"
      ]
     },
     "execution_count": 66,
     "metadata": {},
     "output_type": "execute_result"
    }
   ],
   "source": [
    "v = set(totalTokens)\n",
    "long_words = [word for word in v if len(word) > 13]\n",
    "sorted(long_words)"
   ]
  },
  {
   "cell_type": "markdown",
   "metadata": {},
   "source": [
    "### Collocations"
   ]
  },
  {
   "cell_type": "code",
   "execution_count": 71,
   "metadata": {
    "collapsed": false
   },
   "outputs": [
    {
     "name": "stdout",
     "output_type": "stream",
     "text": [
      "beckenham kent; queen anne; fibrous basis; fibro cartilage; anne\n",
      "street; fatty acids; gastric juice; railway station; station\n",
      "orpington; old friend; charles darwin; son frank; sandown isle;\n",
      "sincerely charles; brit assoc; digestive fluid; broadlands sandown;\n",
      "kent railway; heat rigor; much obliged\n"
     ]
    }
   ],
   "source": [
    "# Get sequence of words or terms that co-occur more often than would be expected by chance. \n",
    "text = nltk.Text(totalTokens)\n",
    "text.collocations()"
   ]
  },
  {
   "cell_type": "code",
   "execution_count": 72,
   "metadata": {
    "collapsed": false
   },
   "outputs": [
    {
     "data": {
      "text/plain": [
       "[('the', 452),\n",
       " ('i', 413),\n",
       " ('to', 351),\n",
       " ('of', 330),\n",
       " ('a', 192),\n",
       " ('that', 176),\n",
       " ('it', 165),\n",
       " ('you', 154),\n",
       " ('in', 152),\n",
       " ('is', 137),\n",
       " ('have', 124),\n",
       " ('as', 113),\n",
       " ('my', 110),\n",
       " ('not', 109),\n",
       " ('be', 108),\n",
       " ('on', 100),\n",
       " ('me', 96),\n",
       " ('for', 93),\n",
       " ('very', 83),\n",
       " ('with', 80),\n",
       " ('will', 80),\n",
       " ('by', 66),\n",
       " ('but', 66),\n",
       " ('which', 64),\n",
       " ('this', 63),\n",
       " ('if', 63),\n",
       " ('and', 62),\n",
       " ('your', 60),\n",
       " ('dear', 59),\n",
       " ('or', 55),\n",
       " ('he', 53),\n",
       " ('at', 53),\n",
       " ('was', 51),\n",
       " ('darwin', 51),\n",
       " ('had', 49),\n",
       " ('much', 48),\n",
       " ('so', 47),\n",
       " ('mr', 46),\n",
       " ('yours', 46),\n",
       " ('would', 45),\n",
       " ('drosera', 44),\n",
       " ('sanderson', 44),\n",
       " ('has', 42),\n",
       " ('think', 42),\n",
       " ('are', 40),\n",
       " ('his', 39),\n",
       " ('dr', 39),\n",
       " ('do', 38),\n",
       " ('can', 38),\n",
       " ('s', 38)]"
      ]
     },
     "execution_count": 72,
     "metadata": {},
     "output_type": "execute_result"
    }
   ],
   "source": [
    "from nltk import FreqDist\n",
    "fdist = FreqDist(text)\n",
    "fdist.most_common(50)"
   ]
  },
  {
   "cell_type": "code",
   "execution_count": 80,
   "metadata": {
    "collapsed": false
   },
   "outputs": [
    {
     "ename": "ImportError",
     "evalue": "No module named 'ggplot'",
     "output_type": "error",
     "traceback": [
      "\u001b[1;31m---------------------------------------------------------------------------\u001b[0m",
      "\u001b[1;31mImportError\u001b[0m                               Traceback (most recent call last)",
      "\u001b[1;32m<ipython-input-80-02aeb6e281ab>\u001b[0m in \u001b[0;36m<module>\u001b[1;34m()\u001b[0m\n\u001b[1;32m----> 1\u001b[1;33m \u001b[1;32mfrom\u001b[0m \u001b[0mggplot\u001b[0m \u001b[1;32mimport\u001b[0m \u001b[1;33m*\u001b[0m\u001b[1;33m\u001b[0m\u001b[0m\n\u001b[0m",
      "\u001b[1;31mImportError\u001b[0m: No module named 'ggplot'"
     ]
    }
   ],
   "source": [
    "from ggplot import *"
   ]
  },
  {
   "cell_type": "code",
   "execution_count": null,
   "metadata": {
    "collapsed": true
   },
   "outputs": [],
   "source": []
  }
 ],
 "metadata": {
  "kernelspec": {
   "display_name": "Python 3",
   "language": "python",
   "name": "python3"
  },
  "language_info": {
   "codemirror_mode": {
    "name": "ipython",
    "version": 3
   },
   "file_extension": ".py",
   "mimetype": "text/x-python",
   "name": "python",
   "nbconvert_exporter": "python",
   "pygments_lexer": "ipython3",
   "version": "3.5.1"
  }
 },
 "nbformat": 4,
 "nbformat_minor": 0
}
